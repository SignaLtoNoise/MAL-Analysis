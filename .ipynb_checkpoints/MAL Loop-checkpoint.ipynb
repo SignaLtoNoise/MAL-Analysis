{
 "cells": [
  {
   "cell_type": "markdown",
   "metadata": {},
   "source": [
    "# MAL Loop"
   ]
  },
  {
   "cell_type": "markdown",
   "metadata": {},
   "source": [
    "## 1: Import, define functions"
   ]
  },
  {
   "cell_type": "code",
   "execution_count": 1,
   "metadata": {},
   "outputs": [],
   "source": [
    "import time\n",
    "import json\n",
    "from bs4 import BeautifulSoup, Tag, NavigableString\n",
    "import requests"
   ]
  },
  {
   "cell_type": "code",
   "execution_count": 2,
   "metadata": {},
   "outputs": [],
   "source": [
    "def tagstringextract(x):\n",
    "    \"\"\"extract string from NavigableString\"\"\"\n",
    "    if isinstance(x, NavigableString):\n",
    "        return x.lstrip().rstrip()\n",
    "    elif isinstance(x, Tag):\n",
    "        return x.get_text().lstrip().rstrip()\n",
    "    elif isinstance(x, list):\n",
    "        return ''.join([tagstringextract(a) for a in x])\n",
    "    else:\n",
    "        raise Exception('Detected neither Tag nor NavigableString')"
   ]
  },
  {
   "cell_type": "markdown",
   "metadata": {},
   "source": [
    "`malkey` extracts the primary key from the url. As an examle, `malkey('https://myanimelist.net/anime/1/Cowboy_Bebop')` returns `[1]`. Special consideration is given for different Tag types that MyAnimeList uses."
   ]
  },
  {
   "cell_type": "code",
   "execution_count": 3,
   "metadata": {},
   "outputs": [],
   "source": [
    "def malkey(x):\n",
    "    \"\"\"returns an array of primary key[s] from url string[s]\"\"\"\n",
    "\n",
    "    if isinstance(x, str):\n",
    "        return [int(s) for s in x.split('/') if s.isdigit()]\n",
    "    \n",
    "    elif isinstance(x, list):\n",
    "        if len(x) > 1:\n",
    "            return [malkey(y) for y in x]  \n",
    "        else:\n",
    "            return malkey(x[0])\n",
    "    \n",
    "    elif isinstance(x, Tag):\n",
    "        if len(x) == 1:\n",
    "            if isinstance(x.contents[0], Tag):\n",
    "                return malkey(x.contents[0]['href'])\n",
    "            elif isinstance(x.contents[0], NavigableString):\n",
    "                return malkey(x['href'])\n",
    "            else:\n",
    "                raise Exception('Detected neither Tag nor NavigableString')\n",
    "        else:\n",
    "            return [malkey(y)[0] for y in x if isinstance(y, Tag) and len(y) > 0]\n",
    "                \n",
    "    else:\n",
    "        raise Exception('Detected neither str nor list of str')"
   ]
  },
  {
   "cell_type": "markdown",
   "metadata": {},
   "source": [
    "`chunks` to be used for extracting Related Anime table information in pairs."
   ]
  },
  {
   "cell_type": "code",
   "execution_count": 7,
   "metadata": {},
   "outputs": [],
   "source": [
    "def chunks(l, n):\n",
    "    \"\"\"Yield successive n-sized chunks from l.\"\"\"\n",
    "    for i in range(0, len(l), n):\n",
    "        yield l[i:i + n]"
   ]
  },
  {
   "cell_type": "markdown",
   "metadata": {},
   "source": [
    "## 2: Load url list"
   ]
  },
  {
   "cell_type": "code",
   "execution_count": 8,
   "metadata": {},
   "outputs": [],
   "source": [
    "with open('urllist.txt', 'r', encoding='utf8') as filehandle:  \n",
    "    urllist = json.load(filehandle)"
   ]
  },
  {
   "cell_type": "markdown",
   "metadata": {},
   "source": [
    "For testing, we will use a small portion of the total MAL sitemap."
   ]
  },
  {
   "cell_type": "code",
   "execution_count": 9,
   "metadata": {},
   "outputs": [
    {
     "data": {
      "text/plain": [
       "['https://myanimelist.net/anime/1/Cowboy_Bebop',\n",
       " 'https://myanimelist.net/anime/5/Cowboy_Bebop__Tengoku_no_Tobira',\n",
       " 'https://myanimelist.net/anime/6/Trigun',\n",
       " 'https://myanimelist.net/anime/7/Witch_Hunter_Robin',\n",
       " 'https://myanimelist.net/anime/8/Bouken_Ou_Beet',\n",
       " 'https://myanimelist.net/anime/15/Eyeshield_21',\n",
       " 'https://myanimelist.net/anime/16/Hachimitsu_to_Clover',\n",
       " 'https://myanimelist.net/anime/17/Hungry_Heart__Wild_Striker',\n",
       " 'https://myanimelist.net/anime/18/Initial_D_Fourth_Stage',\n",
       " 'https://myanimelist.net/anime/19/Monster']"
      ]
     },
     "execution_count": 9,
     "metadata": {},
     "output_type": "execute_result"
    }
   ],
   "source": [
    "# for testing, use small beginning of loop\n",
    "urllist = urllist[0:10]\n",
    "urllist"
   ]
  },
  {
   "cell_type": "markdown",
   "metadata": {},
   "source": [
    "### Prepare empty lists for loop"
   ]
  },
  {
   "cell_type": "markdown",
   "metadata": {},
   "source": [
    "Global lists, variables to use/append inside the loop."
   ]
  },
  {
   "cell_type": "code",
   "execution_count": 10,
   "metadata": {},
   "outputs": [],
   "source": [
    "mallist = []\n",
    "failedlist = []\n",
    "sequelkeys = []\n",
    "maxindex = len(urllist)\n",
    "minlooptime = 0.10\n",
    "failedcount = 0"
   ]
  },
  {
   "cell_type": "markdown",
   "metadata": {},
   "source": [
    "Setting the loop time intentionally too fast in order to test error handling. To avoid 429 requests should come at least 2 seconds apart."
   ]
  },
  {
   "cell_type": "markdown",
   "metadata": {},
   "source": [
    "## 3: Loop"
   ]
  },
  {
   "cell_type": "code",
   "execution_count": 11,
   "metadata": {},
   "outputs": [
    {
     "name": "stdout",
     "output_type": "stream",
     "text": [
      "Processed anime [key = 1], 1/10, 10.00%: in 1.1201 seconds.\n",
      "Processed anime [key = 5], 2/10, 20.00%: in 1.0241 seconds.\n",
      "429 Client Error: Too Many Requests for url: https://myanimelist.net/anime/6/Trigun\n",
      "Current Failed Count: 1\n",
      "Processed anime [key = 7], 4/10, 40.00%: in 0.9321 seconds.\n",
      "429 Client Error: Too Many Requests for url: https://myanimelist.net/anime/8/Bouken_Ou_Beet\n",
      "Current Failed Count: 2\n",
      "Processed anime [key = 15], 6/10, 60.00%: in 0.9941 seconds.\n",
      "Processed anime [key = 16], 7/10, 70.00%: in 1.0431 seconds.\n",
      "Processed anime [key = 17], 8/10, 80.00%: in 0.9021 seconds.\n",
      "Processed anime [key = 18], 9/10, 90.00%: in 2.2582 seconds.\n",
      "Processed anime [key = 19], 10/10, 100.00%: in 1.1011 seconds.\n"
     ]
    }
   ],
   "source": [
    "for idx, url in enumerate(urllist):\n",
    "    # start timer\n",
    "    timestart = time.time()\n",
    "    \n",
    "    try:\n",
    "        page = requests.get(url,timeout=5)\n",
    "        page.raise_for_status()\n",
    "    except requests.exceptions.RequestException as e:\n",
    "        failedcount += 1 \n",
    "        print(e)\n",
    "        print('Current Failed Count: ' + str(failedcount))\n",
    "        failedlist.append(url)\n",
    "        \n",
    "        if time.time() - timestart < minlooptime:\n",
    "            time.sleep(minlooptime - (time.time() - timestart))\n",
    "        continue\n",
    "\n",
    "    \n",
    "    # get primary key, start new row\n",
    "    animekey = malkey(url)[0]\n",
    "    newrow = {'key': animekey}\n",
    "    \n",
    "    # create soup\n",
    "    anime = BeautifulSoup(page.content, 'html.parser')\n",
    "    \n",
    "    # get title\n",
    "    title = {'Title': anime.select('.h1 span')[0].string}\n",
    "    newrow.update(title)\n",
    "    \n",
    "    # get sidebar information\n",
    "    sidebar = [a for a in \n",
    "               [[x for x in entry if x != '\\n'] for entry in anime.select('.js-scrollfix-bottom div')]\n",
    "               if len(a) > 1 and a[0].name == 'span']\n",
    "    sidebardict = dict([entry[0].get_text(), tagstringextract(entry[1:])] for entry in sidebar)\n",
    "    newrow.update(sidebardict)\n",
    "    \n",
    "    # add to global list\n",
    "    mallist.append(newrow)\n",
    "    \n",
    "    # related\n",
    "    relatedanime = anime.select('.anime_detail_related_anime .borderClass')\n",
    "    relatedlist = [[animekey, alpha[0].text, y] for alpha in chunks(relatedanime, 2) for y in malkey(alpha[1])]\n",
    "    \n",
    "    sequelkeys += relatedlist\n",
    "    \n",
    "    # pause if too fast\n",
    "    if time.time() - timestart < minlooptime:\n",
    "        time.sleep(minlooptime - (time.time() - timestart))\n",
    "    print('Processed anime [key = ' + str(animekey) + '], ' \n",
    "          + '%d' % (idx+1) + '/' + str(maxindex) + ', ' + '%.2f' % (100*(idx+1)/maxindex) + '%: in ' \n",
    "          + '%.4f' % (time.time() - timestart) + ' seconds.')\n"
   ]
  },
  {
   "cell_type": "markdown",
   "metadata": {},
   "source": [
    "## 4: Check output"
   ]
  },
  {
   "cell_type": "code",
   "execution_count": 14,
   "metadata": {},
   "outputs": [
    {
     "data": {
      "text/plain": [
       "[{'key': 1,\n",
       "  'Title': 'Cowboy Bebop',\n",
       "  'English:': 'Cowboy Bebop',\n",
       "  'Japanese:': 'カウボーイビバップ',\n",
       "  'Type:': 'TV',\n",
       "  'Episodes:': '26',\n",
       "  'Status:': 'Finished Airing',\n",
       "  'Aired:': 'Apr 3, 1998 to Apr 24, 1999',\n",
       "  'Premiered:': 'Spring 1998',\n",
       "  'Broadcast:': 'Saturdays at 01:00 (JST)',\n",
       "  'Producers:': 'Bandai Visual',\n",
       "  'Licensors:': 'Funimation,Bandai Entertainment',\n",
       "  'Studios:': 'Sunrise',\n",
       "  'Source:': 'Original',\n",
       "  'Genres:': 'Action,Adventure,Comedy,Drama,Sci-Fi,Space',\n",
       "  'Duration:': '24 min. per ep.',\n",
       "  'Rating:': 'R - 17+ (violence & profanity)',\n",
       "  'Score:': \"8.821(scored by436,438users)1\\n        indicates a weighted score. Please note that 'Not yet aired' titles are excluded.\",\n",
       "  'Ranked:': \"#2922\\n    based on the top anime page. Please note that 'Not yet aired' and 'R18+' titles are excluded.\",\n",
       "  'Popularity:': '#38',\n",
       "  'Members:': '868,482',\n",
       "  'Favorites:': '46,832'},\n",
       " {'key': 5,\n",
       "  'Title': 'Cowboy Bebop: Tengoku no Tobira',\n",
       "  'English:': 'Cowboy Bebop: The Movie',\n",
       "  'Synonyms:': \"Cowboy Bebop: Knockin' on Heaven's Door\",\n",
       "  'Japanese:': 'カウボーイビバップ 天国の扉',\n",
       "  'Type:': 'Movie',\n",
       "  'Episodes:': '1',\n",
       "  'Status:': 'Finished Airing',\n",
       "  'Aired:': 'Sep 1, 2001',\n",
       "  'Producers:': 'Sunrise,Bandai Visual',\n",
       "  'Licensors:': 'Sony Pictures Entertainment',\n",
       "  'Studios:': 'Bones',\n",
       "  'Source:': 'Original',\n",
       "  'Genres:': 'Action,Drama,Mystery,Sci-Fi,Space',\n",
       "  'Duration:': '1 hr. 55 min.',\n",
       "  'Rating:': 'R - 17+ (violence & profanity)',\n",
       "  'Score:': \"8.411(scored by126,978users)1\\n        indicates a weighted score. Please note that 'Not yet aired' titles are excluded.\",\n",
       "  'Ranked:': \"#15722\\n    based on the top anime page. Please note that 'Not yet aired' and 'R18+' titles are excluded.\",\n",
       "  'Popularity:': '#467',\n",
       "  'Members:': '211,881',\n",
       "  'Favorites:': '854'}]"
      ]
     },
     "execution_count": 14,
     "metadata": {},
     "output_type": "execute_result"
    }
   ],
   "source": [
    "mallist[0:2]"
   ]
  },
  {
   "cell_type": "code",
   "execution_count": 16,
   "metadata": {},
   "outputs": [
    {
     "data": {
      "text/plain": [
       "[[1, 'Adaptation:', 173],\n",
       " [1, 'Adaptation:', 174],\n",
       " [1, 'Side story:', 5],\n",
       " [1, 'Side story:', 17205],\n",
       " [1, 'Summary:', 4037],\n",
       " [5, 'Parent story:', 1],\n",
       " [15, 'Adaptation:', 43],\n",
       " [15, 'Side story:', 1317],\n",
       " [15, 'Side story:', 6418],\n",
       " [16, 'Adaptation:', 1009]]"
      ]
     },
     "execution_count": 16,
     "metadata": {},
     "output_type": "execute_result"
    }
   ],
   "source": [
    "sequelkeys[0:10]"
   ]
  },
  {
   "cell_type": "code",
   "execution_count": 17,
   "metadata": {},
   "outputs": [
    {
     "data": {
      "text/plain": [
       "['https://myanimelist.net/anime/6/Trigun',\n",
       " 'https://myanimelist.net/anime/8/Bouken_Ou_Beet']"
      ]
     },
     "execution_count": 17,
     "metadata": {},
     "output_type": "execute_result"
    }
   ],
   "source": [
    "failedlist"
   ]
  },
  {
   "cell_type": "markdown",
   "metadata": {},
   "source": [
    "## 4: Save files"
   ]
  },
  {
   "cell_type": "markdown",
   "metadata": {},
   "source": [
    "Save raw data and list of failed attempts to file."
   ]
  },
  {
   "cell_type": "code",
   "execution_count": 51,
   "metadata": {},
   "outputs": [],
   "source": [
    "# with open('animedataraw.txt', 'w', encoding='utf8') as filehandle:  \n",
    "#     json.dump(mallist, filehandle)\n",
    "# with open('failedlist.txt', 'w', encoding='utf8') as filehandle:  \n",
    "#     json.dump(failedlist, filehandle)\n",
    "# with open('sequelkeys.txt', 'w', encoding='utf8') as filehandle:  \n",
    "#     json.dump(sequelkeys, filehandle)"
   ]
  }
 ],
 "metadata": {
  "kernelspec": {
   "display_name": "Python 3",
   "language": "python",
   "name": "python3"
  },
  "language_info": {
   "codemirror_mode": {
    "name": "ipython",
    "version": 3
   },
   "file_extension": ".py",
   "mimetype": "text/x-python",
   "name": "python",
   "nbconvert_exporter": "python",
   "pygments_lexer": "ipython3",
   "version": "3.7.4"
  }
 },
 "nbformat": 4,
 "nbformat_minor": 2
}
